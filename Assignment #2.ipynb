{
 "cells": [
  {
   "cell_type": "code",
   "execution_count": 3,
   "metadata": {},
   "outputs": [
    {
     "name": "stdout",
     "output_type": "stream",
     "text": [
      "Enter Marks for 1st subject 78\n",
      "Enter Marks for 2nd subject 90\n",
      "Enter Marks for 3rd subject 80\n",
      "Enter Marks for 4th subject 65\n",
      "Enter Marks for 5th subject 73\n",
      "Your Grade is B\n"
     ]
    }
   ],
   "source": [
    "a=int(input(\"Enter Marks for 1st subject \"))\n",
    "b=int(input(\"Enter Marks for 2nd subject \"))\n",
    "c=int(input(\"Enter Marks for 3rd subject \"))\n",
    "d=int(input(\"Enter Marks for 4th subject \"))\n",
    "e=int(input(\"Enter Marks for 5th subject \"))\n",
    "obt_marks=a+b+c+d+e\n",
    "per=(obt_marks/500)*100\n",
    "if per>=80 and per<=100:\n",
    "    print(\"Your Grade is A+\")\n",
    "elif per>=80 and per<=100:\n",
    "    print(\"Yor Grade is A\")\n",
    "elif per>=70 and per<80:\n",
    "    print(\"Your Grade is B\")\n",
    "elif per>=60 and per<70:\n",
    "    print(\"Your Grade is C\")\n",
    "elif per>=50 and per<60:\n",
    "    print(\"Your Grade is D\")\n",
    "elif per>=0 and per<50:\n",
    "    print(\"You are Fail\")\n",
    "else :\n",
    "    print(\"You have entered invalid marks\")"
   ]
  },
  {
   "cell_type": "code",
   "execution_count": 6,
   "metadata": {},
   "outputs": [
    {
     "name": "stdout",
     "output_type": "stream",
     "text": [
      "Enter a number 31\n",
      "Number is odd\n"
     ]
    }
   ],
   "source": [
    "z=int(input(\"Enter a number \"))\n",
    "if z%2==0:\n",
    "    print(\"Number is even\")\n",
    "else:\n",
    "    print(\"Number is odd\")"
   ]
  },
  {
   "cell_type": "code",
   "execution_count": 9,
   "metadata": {},
   "outputs": [
    {
     "name": "stdout",
     "output_type": "stream",
     "text": [
      "7\n"
     ]
    }
   ],
   "source": [
    "numbers=[21,79,59,45.69,37,101,23.31]\n",
    "print(len(numbers))"
   ]
  },
  {
   "cell_type": "code",
   "execution_count": 10,
   "metadata": {},
   "outputs": [
    {
     "name": "stdout",
     "output_type": "stream",
     "text": [
      "101\n"
     ]
    }
   ],
   "source": [
    "numbers=[21,79,59,45.69,37,101,23.31]\n",
    "print(max(numbers))"
   ]
  },
  {
   "cell_type": "code",
   "execution_count": 11,
   "metadata": {},
   "outputs": [
    {
     "name": "stdout",
     "output_type": "stream",
     "text": [
      "366.0\n"
     ]
    }
   ],
   "source": [
    "numbers=[21,79,59,45.69,37,101,23.31]\n",
    "print(sum(numbers))"
   ]
  },
  {
   "cell_type": "code",
   "execution_count": 17,
   "metadata": {},
   "outputs": [
    {
     "name": "stdout",
     "output_type": "stream",
     "text": [
      "1\n",
      "2\n",
      "3\n"
     ]
    }
   ],
   "source": [
    "a=[1,2,3,5,8,13,21,34,55,89]\n",
    "for i in a:\n",
    "    if i<5:\n",
    "        print(i)"
   ]
  },
  {
   "cell_type": "code",
   "execution_count": null,
   "metadata": {},
   "outputs": [],
   "source": []
  }
 ],
 "metadata": {
  "kernelspec": {
   "display_name": "Python 3",
   "language": "python",
   "name": "python3"
  },
  "language_info": {
   "codemirror_mode": {
    "name": "ipython",
    "version": 3
   },
   "file_extension": ".py",
   "mimetype": "text/x-python",
   "name": "python",
   "nbconvert_exporter": "python",
   "pygments_lexer": "ipython3",
   "version": "3.7.4"
  }
 },
 "nbformat": 4,
 "nbformat_minor": 2
}
