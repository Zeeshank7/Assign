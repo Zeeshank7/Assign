{
 "cells": [
  {
   "cell_type": "code",
   "execution_count": 15,
   "metadata": {},
   "outputs": [
    {
     "name": "stdout",
     "output_type": "stream",
     "text": [
      "Customer's first_name is Kamran\n",
      "Customer's last_name is Ali\n",
      "Customer's Age is 24\n",
      "Customer's city is Hyderabad\n",
      "\n",
      "After Adding new key and value in dictionary \n",
      "\n",
      "{'first_name': 'Kamran', 'last_name': 'Ali', 'Age': '24', 'city': 'Hyderabad', 'Qualification': 'Matric pass'}\n",
      "\n",
      "After updating Qualification \n",
      "\n",
      "{'first_name': 'Kamran', 'last_name': 'Ali', 'Age': '24', 'city': 'Hyderabad', 'Qualification': 'interimediate'}\n",
      "\n",
      "After deleting Qualification \n",
      "\n",
      "{'first_name': 'Kamran', 'last_name': 'Ali', 'Age': '24', 'city': 'Hyderabad'}\n"
     ]
    }
   ],
   "source": [
    "#Q1\n",
    "person={\"first_name\":\"Kamran\",\"last_name\":\"Ali\",\"Age\":\"24\",\"city\":\"Hyderabad\"}\n",
    "for each_key,each_value in person.items():\n",
    "    print(\"Customer's \" + each_key + \" is \" + each_value )\n",
    "\n",
    "print(\"\\nAfter Adding new key and value in dictionary \\n\")\n",
    "person[\"Qualification\"]=\"Matric pass\"\n",
    "print(person)\n",
    "print(\"\\nAfter updating Qualification \\n\")\n",
    "person[\"Qualification\"]=\"interimediate\"\n",
    "print(person)\n",
    "print(\"\\nAfter deleting Qualification \\n\")\n",
    "del person[\"Qualification\"]\n",
    "print(person)\n"
   ]
  },
  {
   "cell_type": "code",
   "execution_count": 34,
   "metadata": {},
   "outputs": [
    {
     "name": "stdout",
     "output_type": "stream",
     "text": [
      "{'Country': 'Pakistan', 'Population': '14.91 million', 'fact': 'The city of lights.'}\n",
      "{'Country': 'Pakistan', 'Population': '1.733 million', 'fact': 'The Sixth largest city in pakistan sindh.'}\n",
      "{'Country': 'Pakistan', 'Population': '11.13 million', 'fact': '2nd biggest city of pakistan.'}\n"
     ]
    }
   ],
   "source": [
    "#Q2\n",
    "cities={\"Karachi\":{\"Country\":\"Pakistan\",\"Population\":\"14.91 million\",\"fact\":\"The city of lights.\"},\"Hyderabad\":{\"Country\":\"Pakistan\",\"Population\":\"1.733 million\",\"fact\":\"The Sixth largest city in pakistan sindh.\"},\"Lahore\":{\"Country\":\"Pakistan\",\"Population\":\"11.13 million\",\"fact\":\"2nd biggest city of pakistan.\"}}\n",
    "print(cities[\"Karachi\"])\n",
    "print(cities[\"Hyderabad\"])\n",
    "print(cities[\"Lahore\"])\n"
   ]
  },
  {
   "cell_type": "code",
   "execution_count": 37,
   "metadata": {},
   "outputs": [
    {
     "name": "stdout",
     "output_type": "stream",
     "text": [
      "One of my favorite books is Alice in Wonderland\n"
     ]
    }
   ],
   "source": [
    "#Q4\n",
    "def favorite_book(title):\n",
    "    print(\"One of my favorite books is \" + title)\n",
    "\n",
    "title=\"Alice in Wonderland\"\n",
    "\n",
    "favorite_book(title)"
   ]
  },
  {
   "cell_type": "code",
   "execution_count": 6,
   "metadata": {},
   "outputs": [
    {
     "name": "stdout",
     "output_type": "stream",
     "text": [
      "How old are you?\n",
      "Enter 'quit' when you are finished. 16\n",
      "  Your ticket is $15.\n",
      "How old are you?\n",
      "Enter 'quit' when you are finished. 1\n",
      "  You get in free!\n",
      "How old are you?\n",
      "Enter 'quit' when you are finished. 5\n",
      "  Your ticket is $10.\n",
      "How old are you?\n",
      "Enter 'quit' when you are finished. quit\n"
     ]
    }
   ],
   "source": [
    "#Q3\n",
    "prompt = \"How old are you?\"\n",
    "prompt += \"\\nEnter 'quit' when you are finished. \"\n",
    "\n",
    "while True:\n",
    "    age = input(prompt)\n",
    "    if age == 'quit':\n",
    "        break\n",
    "    age = int(age)\n",
    "\n",
    "    if age < 3:\n",
    "        print(\"  You get in free!\")\n",
    "    elif age < 13:\n",
    "        print(\"  Your ticket is $10.\")\n",
    "    else:\n",
    "        print(\"  Your ticket is $15.\")\n"
   ]
  },
  {
   "cell_type": "code",
   "execution_count": 3,
   "metadata": {},
   "outputs": [
    {
     "name": "stdout",
     "output_type": "stream",
     "text": [
      "You have only 3 chances to guess the number\n",
      "Please enter your guess: 20\n",
      "You Got it the number is  20\n"
     ]
    }
   ],
   "source": [
    "#Q5\n",
    "import random\n",
    "hidden = random.randrange(1, 30) \n",
    "guesstaken=0\n",
    "print(\"You have only 3 chances to guess the number\")\n",
    "while guesstaken<3:\n",
    "    guess = int(input(\"Please enter your guess: \"))\n",
    "    if guess < hidden:\n",
    "        print(\"Your guess is too low\")\n",
    "    if guess > hidden:\n",
    "        print(\"Your guess is too high\")\n",
    "    if guess == hidden:\n",
    "        print(\"You Got it the number is \",guess)\n",
    "    break\n",
    "if guess!=hidden:\n",
    "    print(\"Sorry your guess is wrong!\")\n",
    "    print(\"Hidden Number is\",hidden)\n",
    "    "
   ]
  },
  {
   "cell_type": "code",
   "execution_count": null,
   "metadata": {},
   "outputs": [],
   "source": []
  }
 ],
 "metadata": {
  "kernelspec": {
   "display_name": "Python 3",
   "language": "python",
   "name": "python3"
  },
  "language_info": {
   "codemirror_mode": {
    "name": "ipython",
    "version": 3
   },
   "file_extension": ".py",
   "mimetype": "text/x-python",
   "name": "python",
   "nbconvert_exporter": "python",
   "pygments_lexer": "ipython3",
   "version": "3.7.4"
  }
 },
 "nbformat": 4,
 "nbformat_minor": 2
}
