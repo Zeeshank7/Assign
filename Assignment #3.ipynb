{
 "cells": [
  {
   "cell_type": "code",
   "execution_count": 1,
   "metadata": {},
   "outputs": [
    {
     "name": "stdout",
     "output_type": "stream",
     "text": [
      "Enter 1st value3\n",
      "Enter 2nd value5\n",
      "Enter Operation you want to perform*\n",
      "Result is  15\n"
     ]
    }
   ],
   "source": [
    "num1=int(input(\"Enter 1st value\"))\n",
    "num2=int(input(\"Enter 2nd value\"))\n",
    "opt=input(\"Enter Operation you want to perform\")\n",
    "if opt=='+':\n",
    "    num=num1+num2\n",
    "    print(\"Result is \",num)\n",
    "elif opt=='-':\n",
    "    num=num1-num2\n",
    "    print(\"Result is \",num)\n",
    "elif opt=='*':\n",
    "    num=num1*num2\n",
    "    print(\"Result is \",num)\n",
    "elif opt=='/':\n",
    "    num=num1/num2\n",
    "    print(\"Result is \",num)\n",
    "elif opt=='^':\n",
    "    num=num1**num2\n",
    "    print(\"Result is \",num)\n",
    "else:\n",
    "    print(\"invalid operator\")\n",
    "    "
   ]
  },
  {
   "cell_type": "code",
   "execution_count": 58,
   "metadata": {},
   "outputs": [
    {
     "name": "stdout",
     "output_type": "stream",
     "text": [
      "1\n",
      "2\n",
      "3\n"
     ]
    }
   ],
   "source": [
    "list =['saif',1,2,3,'zak','khas']\n",
    "temp = type(1)\n",
    "for i in list:\n",
    "    if type(i) == temp:\n",
    "        print(i)        "
   ]
  },
  {
   "cell_type": "code",
   "execution_count": 6,
   "metadata": {},
   "outputs": [
    {
     "name": "stdout",
     "output_type": "stream",
     "text": [
      "{'Name': 'Zeeshan', 'last': 'Ali'}\n",
      "{'Name': 'Zeeshan', 'last': 'Ali', 'subject': 'Python'}\n"
     ]
    }
   ],
   "source": [
    "dic={\"Name\":\"Zeeshan\",\"last\":\"Ali\"}\n",
    "print(dic)\n",
    "dic[\"subject\"]='Python'\n",
    "print(dic)"
   ]
  },
  {
   "cell_type": "code",
   "execution_count": 11,
   "metadata": {},
   "outputs": [
    {
     "name": "stdout",
     "output_type": "stream",
     "text": [
      "The sum of numeric values is: \n",
      "27\n"
     ]
    }
   ],
   "source": [
    "dic={'A':4,'B':5,'C':15,'E':3}\n",
    "print(\"The sum of numeric values is: \")\n",
    "print(sum(dic.values()))"
   ]
  },
  {
   "cell_type": "code",
   "execution_count": 45,
   "metadata": {},
   "outputs": [
    {
     "name": "stdout",
     "output_type": "stream",
     "text": [
      "[2, 4, 5]\n"
     ]
    }
   ],
   "source": [
    "list = [1,2,2,3,4,4,5,5,6]\n",
    "count = 0\n",
    "item = 0\n",
    "new = []\n",
    "for i in list:\n",
    "    count = list.count(i)\n",
    "    if (count > 1 and item != i):\n",
    "        item = i\n",
    "        new.append(i)\n",
    "print(new)"
   ]
  },
  {
   "cell_type": "code",
   "execution_count": 12,
   "metadata": {},
   "outputs": [
    {
     "name": "stdout",
     "output_type": "stream",
     "text": [
      "Key is present in the dictionary\n"
     ]
    }
   ],
   "source": [
    "dic={'A':4,'A':5,'C':15,'E':3}\n",
    "def is_key_present(x):\n",
    "    if x in dic:\n",
    "        print('Key is present in the dictionary')\n",
    "    else:\n",
    "        print('Key is not present in the dictionary')\n",
    "is_key_present('A')\n"
   ]
  },
  {
   "cell_type": "code",
   "execution_count": null,
   "metadata": {},
   "outputs": [],
   "source": []
  }
 ],
 "metadata": {
  "kernelspec": {
   "display_name": "Python 3",
   "language": "python",
   "name": "python3"
  },
  "language_info": {
   "codemirror_mode": {
    "name": "ipython",
    "version": 3
   },
   "file_extension": ".py",
   "mimetype": "text/x-python",
   "name": "python",
   "nbconvert_exporter": "python",
   "pygments_lexer": "ipython3",
   "version": "3.7.4"
  }
 },
 "nbformat": 4,
 "nbformat_minor": 2
}
