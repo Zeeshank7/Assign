{
 "cells": [
  {
   "cell_type": "code",
   "execution_count": 1,
   "metadata": {},
   "outputs": [
    {
     "name": "stdout",
     "output_type": "stream",
     "text": [
      "Twinkle, twinkle, little star,\n",
      "\tHow I Wonder What u are!\n",
      "\t\tup above the world so high,\n",
      "\t\tlike a diamond in the sky.\n",
      "Twinkle, Twinkle, Little star,\n",
      "\tHow I Wonder What u are!\n"
     ]
    }
   ],
   "source": [
    "print('Twinkle, twinkle, little star,\\n\\tHow I Wonder What u are!\\n\\t\\tup above the world so high,'\n",
    "      '\\n\\t\\tlike a diamond in the sky.'\n",
    "      '\\nTwinkle, Twinkle, Little star,'\n",
    "      '\\n\\tHow I Wonder What u are!'\n",
    "      )"
   ]
  },
  {
   "cell_type": "code",
   "execution_count": 2,
   "metadata": {},
   "outputs": [
    {
     "name": "stdout",
     "output_type": "stream",
     "text": [
      "python version\n",
      "3.7.4 (default, Aug  9 2019, 18:34:13) [MSC v.1915 64 bit (AMD64)]\n"
     ]
    }
   ],
   "source": [
    "import sys\n",
    "print(\"python version\")\n",
    "print(sys.version)"
   ]
  },
  {
   "cell_type": "code",
   "execution_count": 3,
   "metadata": {},
   "outputs": [
    {
     "name": "stdout",
     "output_type": "stream",
     "text": [
      "2019-11-04 14:56:22.206075\n"
     ]
    }
   ],
   "source": [
    "import datetime\n",
    "now = datetime.datetime.now()\n",
    "print (now)"
   ]
  },
  {
   "cell_type": "code",
   "execution_count": 4,
   "metadata": {},
   "outputs": [
    {
     "name": "stdout",
     "output_type": "stream",
     "text": [
      "2019-11-04 14:56:52.234295\n"
     ]
    }
   ],
   "source": [
    "import datetime\n",
    "print(datetime.datetime.now())"
   ]
  },
  {
   "cell_type": "code",
   "execution_count": 8,
   "metadata": {},
   "outputs": [
    {
     "name": "stdout",
     "output_type": "stream",
     "text": [
      "Enter the Radious of Circle :3\n",
      "The area of Circle is :\n",
      "28.27431\n"
     ]
    }
   ],
   "source": [
    "r=input(\"Enter the Radious of Circle :\")\n",
    "pi=3.14159\n",
    "A=pi*(int(r)**2)\n",
    "print(\"The area of Circle is :\")\n",
    "print(A)"
   ]
  },
  {
   "cell_type": "code",
   "execution_count": 9,
   "metadata": {},
   "outputs": [
    {
     "name": "stdout",
     "output_type": "stream",
     "text": [
      "Zeeshan \n",
      "Ali\n",
      "Zeeshan Ali\n"
     ]
    }
   ],
   "source": [
    "x=input()\n",
    "y=input()\n",
    "print(x+y)"
   ]
  },
  {
   "cell_type": "code",
   "execution_count": 27,
   "metadata": {},
   "outputs": [
    {
     "name": "stdout",
     "output_type": "stream",
     "text": [
      "Enter your Fisrt Name: Zeeshan\n",
      "Enter your last Name: Ali\n",
      "Ali Zeeshan\n"
     ]
    }
   ],
   "source": [
    "f_name=input(\"Enter your Fisrt Name: \")\n",
    "l_name=input(\"Enter your last Name: \")\n",
    "print(l_name + \" \" + f_name)"
   ]
  },
  {
   "cell_type": "code",
   "execution_count": null,
   "metadata": {},
   "outputs": [],
   "source": []
  }
 ],
 "metadata": {
  "kernelspec": {
   "display_name": "Python 3",
   "language": "python",
   "name": "python3"
  },
  "language_info": {
   "codemirror_mode": {
    "name": "ipython",
    "version": 3
   },
   "file_extension": ".py",
   "mimetype": "text/x-python",
   "name": "python",
   "nbconvert_exporter": "python",
   "pygments_lexer": "ipython3",
   "version": "3.7.4"
  }
 },
 "nbformat": 4,
 "nbformat_minor": 2
}
